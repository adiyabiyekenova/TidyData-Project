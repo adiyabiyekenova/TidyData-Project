{
 "cells": [
  {
   "cell_type": "code",
   "execution_count": 12,
   "metadata": {},
   "outputs": [],
   "source": [
    "import pandas as pd "
   ]
  },
  {
   "cell_type": "code",
   "execution_count": 13,
   "metadata": {},
   "outputs": [
    {
     "name": "stdout",
     "output_type": "stream",
     "text": [
      "   department  1976_gdp1790000000000.0  1977_gdp2028000000000.0  \\\n",
      "0         DHS                      NaN                      NaN   \n",
      "1         DOC             8.190000e+08             8.370000e+08   \n",
      "2         DOD             3.569600e+10             3.796700e+10   \n",
      "3         DOE             1.088200e+10             1.374100e+10   \n",
      "4         DOT             1.142000e+09             1.095000e+09   \n",
      "5         EPA             9.680000e+08             9.660000e+08   \n",
      "6         HHS             9.226000e+09             9.507000e+09   \n",
      "7    Interior             1.152000e+09             1.082000e+09   \n",
      "8        NASA             1.251300e+10             1.255300e+10   \n",
      "9         NIH             8.025000e+09             8.214000e+09   \n",
      "10        NSF             2.372000e+09             2.395000e+09   \n",
      "11      Other             1.191000e+09             1.280000e+09   \n",
      "12       USDA             1.837000e+09             1.796000e+09   \n",
      "13         VA             4.040000e+08             3.740000e+08   \n",
      "\n",
      "    1978_gdp2278000000000.0  1979_gdp2570000000000.0  1980_gdp2797000000000.0  \\\n",
      "0                       NaN                      NaN                      NaN   \n",
      "1              8.710000e+08             9.520000e+08             9.450000e+08   \n",
      "2              3.702200e+10             3.717400e+10             3.700500e+10   \n",
      "3              1.566300e+10             1.561200e+10             1.522600e+10   \n",
      "4              1.156000e+09             1.004000e+09             1.048000e+09   \n",
      "5              1.175000e+09             1.102000e+09             9.030000e+08   \n",
      "6              1.053300e+10             1.012700e+10             1.004500e+10   \n",
      "7              1.125000e+09             1.176000e+09             1.082000e+09   \n",
      "8              1.251600e+10             1.307900e+10             1.383700e+10   \n",
      "9              8.802000e+09             9.243000e+09             9.093000e+09   \n",
      "10             2.446000e+09             2.404000e+09             2.407000e+09   \n",
      "11             1.237000e+09             2.321000e+09             2.468000e+09   \n",
      "12             1.962000e+09             2.054000e+09             1.887000e+09   \n",
      "13             3.560000e+08             3.530000e+08             3.590000e+08   \n",
      "\n",
      "    1981_gdp3138000000000.0  1982_gdp3314000000000.0  1983_gdp3541000000000.0  \\\n",
      "0                       NaN                      NaN                      NaN   \n",
      "1              8.290000e+08             6.930000e+08             7.000000e+08   \n",
      "2              4.173700e+10             4.689300e+10             5.100800e+10   \n",
      "3              1.479800e+10             1.216000e+10             1.112900e+10   \n",
      "4              9.780000e+08             7.020000e+08             8.000000e+08   \n",
      "5              9.010000e+08             6.410000e+08             5.010000e+08   \n",
      "6              9.644000e+09             8.860000e+09             9.418000e+09   \n",
      "7              9.900000e+08             8.660000e+08             8.350000e+08   \n",
      "8              1.327600e+10             1.032200e+10             5.893000e+09   \n",
      "9              8.580000e+09             8.314000e+09             8.733000e+09   \n",
      "10             2.300000e+09             2.191000e+09             2.282000e+09   \n",
      "11             1.925000e+09             1.626000e+09             1.457000e+09   \n",
      "12             1.964000e+09             1.867000e+09             1.907000e+09   \n",
      "13             3.820000e+08             3.130000e+08             3.470000e+08   \n",
      "\n",
      "    1984_gdp3953000000000.0  ...  2008_gdp14752000000000.0  \\\n",
      "0                       NaN  ...                1155000000   \n",
      "1              7.550000e+08  ...                1379000000   \n",
      "2              5.813900e+10  ...               94247000000   \n",
      "3              1.173100e+10  ...               11343000000   \n",
      "4              1.018000e+09  ...                1016000000   \n",
      "5              5.180000e+08  ...                 636000000   \n",
      "6              1.014500e+10  ...               33964000000   \n",
      "7              7.570000e+08  ...                 794000000   \n",
      "8              6.231000e+09  ...               12985000000   \n",
      "9              9.620000e+09  ...               33130000000   \n",
      "10             2.597000e+09  ...                5233000000   \n",
      "11             1.418000e+09  ...                1238000000   \n",
      "12             2.032000e+09  ...                2708000000   \n",
      "13             4.100000e+08  ...                1029000000   \n",
      "\n",
      "    2009_gdp14415000000000.0  2010_gdp14799000000000.0  \\\n",
      "0                 1258000000                1009000000   \n",
      "1                 1594000000                1521000000   \n",
      "2                93527000000               94325000000   \n",
      "3                11823000000               12329000000   \n",
      "4                 1062000000                1221000000   \n",
      "5                  646000000                 679000000   \n",
      "6                35649000000               36134000000   \n",
      "7                  805000000                 883000000   \n",
      "8                10087000000               10538000000   \n",
      "9                34150000000               34348000000   \n",
      "10                5472000000                6135000000   \n",
      "11                1323000000                1287000000   \n",
      "12                2797000000                2971000000   \n",
      "13                1082000000                1176000000   \n",
      "\n",
      "    2011_gdp15379000000000.0  2012_gdp16027000000000.0  \\\n",
      "0                  848000000                 527000000   \n",
      "1                 1357000000                1373000000   \n",
      "2                88220000000               81543000000   \n",
      "3                11902000000               11839000000   \n",
      "4                 1064000000                1007000000   \n",
      "5                  649000000                 622000000   \n",
      "6                34773000000               34360000000   \n",
      "7                  844000000                 898000000   \n",
      "8                10147000000               12391000000   \n",
      "9                33265000000               32865000000   \n",
      "10                6127000000                6248000000   \n",
      "11                1129000000                1448000000   \n",
      "12                2637000000                2553000000   \n",
      "13                1294000000                1270000000   \n",
      "\n",
      "    2013_gdp16516000000000.0  2014_gdp17244000000000.0  \\\n",
      "0                  737000000                1092000000   \n",
      "1                 1397000000                1641000000   \n",
      "2                70583000000               70341000000   \n",
      "3                11528000000               12686000000   \n",
      "4                  881000000                 843000000   \n",
      "5                  570000000                 569000000   \n",
      "6                32095000000               32438000000   \n",
      "7                  846000000                 889000000   \n",
      "8                11845000000               12432000000   \n",
      "9                30522000000               30938000000   \n",
      "10                5739000000                6135000000   \n",
      "11                1846000000                1697000000   \n",
      "12                2279000000                2517000000   \n",
      "13                1253000000                1165000000   \n",
      "\n",
      "    2015_gdp17983000000000.0  2016_gdp18470000000000.0  \\\n",
      "0                  960000000                 602000000   \n",
      "1                 1596000000                1730000000   \n",
      "2                69522000000               75213000000   \n",
      "3                15033000000               15504000000   \n",
      "4                  926000000                 910000000   \n",
      "5                  544000000                 530000000   \n",
      "6                31537000000               33121000000   \n",
      "7                  903000000                1005000000   \n",
      "8                11927000000               13713000000   \n",
      "9                30046000000               31675000000   \n",
      "10                6260000000                6222000000   \n",
      "11                1558000000                1653000000   \n",
      "12                2565000000                2745000000   \n",
      "13                1231000000                1262000000   \n",
      "\n",
      "    2017_gdp19177000000000.0  \n",
      "0                  735000000  \n",
      "1                 1824000000  \n",
      "2                51862000000  \n",
      "3                15032000000  \n",
      "4                  936000000  \n",
      "5                  506000000  \n",
      "6                34758000000  \n",
      "7                  955000000  \n",
      "8                12361000000  \n",
      "9                33052000000  \n",
      "10                6040000000  \n",
      "11                1553000000  \n",
      "12                2625000000  \n",
      "13                1367000000  \n",
      "\n",
      "[14 rows x 43 columns]\n"
     ]
    }
   ],
   "source": [
    "# Load the dataset and check\n",
    "\n",
    "rd_budget_df = pd.read_csv('data/rd_data.csv')\n",
    "rd_budget_df.head()\n",
    "print(rd_budget_df)"
   ]
  },
  {
   "cell_type": "markdown",
   "metadata": {},
   "source": [
    "The dataset initially has 14 rows and 43 columns, with rows indicating each department and columns indicating each year and corresposnding budget. This layout is not convenient to read so we need to reshape the format of the dataset. "
   ]
  },
  {
   "cell_type": "code",
   "execution_count": 14,
   "metadata": {},
   "outputs": [
    {
     "name": "stdout",
     "output_type": "stream",
     "text": [
      "    department                  year_gdp        budget\n",
      "0          DHS   1976_gdp1790000000000.0           NaN\n",
      "1          DOC   1976_gdp1790000000000.0  8.190000e+08\n",
      "2          DOD   1976_gdp1790000000000.0  3.569600e+10\n",
      "3          DOE   1976_gdp1790000000000.0  1.088200e+10\n",
      "4          DOT   1976_gdp1790000000000.0  1.142000e+09\n",
      "..         ...                       ...           ...\n",
      "583        NIH  2017_gdp19177000000000.0  3.305200e+10\n",
      "584        NSF  2017_gdp19177000000000.0  6.040000e+09\n",
      "585      Other  2017_gdp19177000000000.0  1.553000e+09\n",
      "586       USDA  2017_gdp19177000000000.0  2.625000e+09\n",
      "587         VA  2017_gdp19177000000000.0  1.367000e+09\n",
      "\n",
      "[588 rows x 3 columns]\n"
     ]
    }
   ],
   "source": [
    "\n",
    "# Reshape the dataset from a wide format to a long format \n",
    "rd_budget_long = rd_budget_df.melt(id_vars=[\"department\"], var_name=\"year_gdp\", value_name=\"budget\")\n",
    "print(rd_budget_long)"
   ]
  },
  {
   "cell_type": "markdown",
   "metadata": {},
   "source": [
    "This code reshapes the dataset using melt function that I found online. The column department remains as it is in the new format. The year columns are combined into a single column called year_gdp. The values in the year columns are put into a new column called year_gdp. \n",
    "Now the dataset has 588 rows and 3 columns. The first column represents the department, the second is the year and third is the budget itself. This is still not very convenient and clean so we need to proceed forther. "
   ]
  },
  {
   "cell_type": "code",
   "execution_count": 15,
   "metadata": {},
   "outputs": [
    {
     "name": "stdout",
     "output_type": "stream",
     "text": [
      "    department        budget  year\n",
      "0          DHS           NaN  1976\n",
      "1          DOC  8.190000e+08  1976\n",
      "2          DOD  3.569600e+10  1976\n",
      "3          DOE  1.088200e+10  1976\n",
      "4          DOT  1.142000e+09  1976\n",
      "..         ...           ...   ...\n",
      "583        NIH  3.305200e+10  2017\n",
      "584        NSF  6.040000e+09  2017\n",
      "585      Other  1.553000e+09  2017\n",
      "586       USDA  2.625000e+09  2017\n",
      "587         VA  1.367000e+09  2017\n",
      "\n",
      "[588 rows x 3 columns]\n"
     ]
    }
   ],
   "source": [
    "# Extract the year from the \"year_gdp\" column and add a new column \"year\"\n",
    "rd_budget_long[\"year\"] = rd_budget_long[\"year_gdp\"].str.split(\"_\").str[0]\n",
    "# Drop the original \"year_gdp\" column\n",
    "rd_budget_long = rd_budget_long.drop(columns=[\"year_gdp\"])\n",
    "# Convert the \"year\" column to integer type\n",
    "rd_budget_long[\"year\"] = pd.to_numeric(rd_budget_long[\"year\"], errors=\"coerce\")\n",
    "\n",
    "print(rd_budget_long)"
   ]
  },
  {
   "cell_type": "markdown",
   "metadata": {},
   "source": [
    "Here I cleaned the year column and made it numeric "
   ]
  },
  {
   "cell_type": "code",
   "execution_count": null,
   "metadata": {},
   "outputs": [],
   "source": []
  }
 ],
 "metadata": {
  "kernelspec": {
   "display_name": "base",
   "language": "python",
   "name": "python3"
  },
  "language_info": {
   "codemirror_mode": {
    "name": "ipython",
    "version": 3
   },
   "file_extension": ".py",
   "mimetype": "text/x-python",
   "name": "python",
   "nbconvert_exporter": "python",
   "pygments_lexer": "ipython3",
   "version": "3.12.7"
  }
 },
 "nbformat": 4,
 "nbformat_minor": 2
}
