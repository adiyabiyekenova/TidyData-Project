{
 "cells": [
  {
   "cell_type": "code",
   "execution_count": 1,
   "metadata": {},
   "outputs": [],
   "source": [
    "import pandas as pd \n",
    "fed_rd = pd.read_csv(\"https://raw.githubusercontent.com/rfordatascience/tidytuesday/main/data/2019/2019-02-12/fed_r_d_spending.csv\")"
   ]
  },
  {
   "cell_type": "code",
   "execution_count": 3,
   "metadata": {},
   "outputs": [
    {
     "name": "stdout",
     "output_type": "stream",
     "text": [
      "    department  year     rd_budget  total_outlays  discretionary_outlays  \\\n",
      "0          DOD  1976  3.569600e+10   3.718000e+11           1.756000e+11   \n",
      "1         NASA  1976  1.251300e+10   3.718000e+11           1.756000e+11   \n",
      "2          DOE  1976  1.088200e+10   3.718000e+11           1.756000e+11   \n",
      "3          HHS  1976  9.226000e+09   3.718000e+11           1.756000e+11   \n",
      "4          NIH  1976  8.025000e+09   3.718000e+11           1.756000e+11   \n",
      "..         ...   ...           ...            ...                    ...   \n",
      "583        EPA  2017  5.060000e+08   3.981600e+12           1.200200e+12   \n",
      "584        DOC  2017  1.824000e+09   3.981600e+12           1.200200e+12   \n",
      "585        DHS  2017  7.350000e+08   3.981600e+12           1.200200e+12   \n",
      "586         VA  2017  1.367000e+09   3.981600e+12           1.200200e+12   \n",
      "587      Other  2017  1.553000e+09   3.981600e+12           1.200200e+12   \n",
      "\n",
      "              gdp  \n",
      "0    1.790000e+12  \n",
      "1    1.790000e+12  \n",
      "2    1.790000e+12  \n",
      "3    1.790000e+12  \n",
      "4    1.790000e+12  \n",
      "..            ...  \n",
      "583  1.917700e+13  \n",
      "584  1.917700e+13  \n",
      "585  1.917700e+13  \n",
      "586  1.917700e+13  \n",
      "587  1.917700e+13  \n",
      "\n",
      "[588 rows x 6 columns]\n"
     ]
    }
   ],
   "source": [
    "print(fed_rd)"
   ]
  }
 ],
 "metadata": {
  "kernelspec": {
   "display_name": "base",
   "language": "python",
   "name": "python3"
  },
  "language_info": {
   "codemirror_mode": {
    "name": "ipython",
    "version": 3
   },
   "file_extension": ".py",
   "mimetype": "text/x-python",
   "name": "python",
   "nbconvert_exporter": "python",
   "pygments_lexer": "ipython3",
   "version": "3.12.7"
  }
 },
 "nbformat": 4,
 "nbformat_minor": 2
}
